{
 "cells": [
  {
   "cell_type": "code",
   "execution_count": 1,
   "metadata": {},
   "outputs": [
    {
     "name": "stderr",
     "output_type": "stream",
     "text": [
      "/home/ubuntu/anaconda3/envs/tensorflow_p36/lib/python3.6/site-packages/matplotlib/font_manager.py:278: UserWarning: Matplotlib is building the font cache using fc-list. This may take a moment.\n",
      "  'Matplotlib is building the font cache using fc-list. '\n"
     ]
    }
   ],
   "source": [
    "import os\n",
    "import numpy as np\n",
    "from matplotlib.image import imread, imsave\n",
    "from matplotlib import pyplot as plt \n",
    "\n",
    "import tensorflow as tf\n",
    "import tensorflow.keras as keras"
   ]
  },
  {
   "cell_type": "code",
   "execution_count": 11,
   "metadata": {},
   "outputs": [],
   "source": [
    "class data_generator:\n",
    "    dir_name=None\n",
    "    fileNames=None\n",
    "    count=None\n",
    "    n_files=None\n",
    "    def __init__(self,dir_name):\n",
    "        self.dir_name=dir_name\n",
    "        self.fileNames=[x for x in os.listdir(self.dir_name) if x.endswith('.jpg')]\n",
    "        self.count=0\n",
    "        self.n_files=len(self.fileNames)\n",
    "\n",
    "    def getRandomOne(self):\n",
    "        res=[]\n",
    "        img=imread(self.dir_name+self.fileNames[np.random.randint(self.n_files)])\n",
    "        res.append(img/255.0)\n",
    "        return np.array(res)\n",
    "    \n",
    "    def getEpochData(self,size):\n",
    "        res=[]\n",
    "        for i in range(size):\n",
    "            img=imread(self.dir_name+self.fileNames[self.count])\n",
    "            self.count=(self.count+1)%self.n_files\n",
    "            res.append(img/255.)\n",
    "        res=np.array(res)\n",
    "        \n",
    "        m,h,w,c=res.shape\n",
    "        mask=np.zeros((m,h,w,1))\n",
    "        x=127\n",
    "        y=127\n",
    "        mask[:,x-64:x+64,y-64:y+64,:]=1.0\n",
    "        \n",
    "        generator_input=res*(1.0-mask)\n",
    "        print(\"Read Image Bank:\",res.shape)\n",
    "        return res,np.concatenate((generator_input,mask),axis=-1)\n",
    "\n",
    "class tsop:\n",
    "    def conv2d(x,n_filters,fsize,strides=1,padding='REFLECT',activation=tf.nn.relu,\n",
    "               dilation_rate=1,name=None):\n",
    "        p=dilation_rate*(fsize//2)\n",
    "        if padding=='REFLECT':\n",
    "            x=tf.pad(x,[[0,0],[p,p],[p,p],[0,0]],mode=padding,name=name+'_padding')\n",
    "            padding='VALID'\n",
    "        x=keras.layers.Conv2D(n_filters,kernel_size=fsize,strides=strides,activation=activation,\n",
    "                              dilation_rate=dilation_rate,name=name+'_conv',padding=padding)(x)\n",
    "        return x"
   ]
  },
  {
   "cell_type": "code",
   "execution_count": 9,
   "metadata": {},
   "outputs": [],
   "source": [
    "def generator(x):\n",
    "    g_vars=[t for t in tf.global_variables() if t.name.startswith('generator')]\n",
    "    with tf.variable_scope('generator',reuse=len(g_vars)>0):\n",
    "        x=tsop.conv2d(x,64,fsize=5,name='step0_0')\n",
    "\n",
    "        x=tsop.conv2d(x,128,fsize=3,strides=2,name='step1_0')\n",
    "        x=tsop.conv2d(x,128,fsize=3,name='step1_1')\n",
    "\n",
    "        x=tsop.conv2d(x,256,fsize=3,strides=2,name='step2_0')\n",
    "        x=tsop.conv2d(x,256,fsize=3,name='step2_1')\n",
    "        x=tsop.conv2d(x,256,fsize=3,name='step2_2')\n",
    "        \n",
    "        x=tsop.conv2d(x,256,fsize=3,dilation_rate=2,name='step3_0')\n",
    "        x=tsop.conv2d(x,256,fsize=3,dilation_rate=4,name='step3_1')\n",
    "        x=tsop.conv2d(x,256,fsize=3,dilation_rate=8,name='step3_2')\n",
    "        x=tsop.conv2d(x,256,fsize=3,dilation_rate=16,name='step3_3')\n",
    "        \n",
    "        x=tsop.conv2d(x,256,fsize=3,name='step4_0')\n",
    "        x=tsop.conv2d(x,256,fsize=3,name='step4_1')\n",
    "        \n",
    "        x=keras.layers.Conv2DTranspose(128,kernel_size=4,strides=2,padding='same',name='step5_0_deconv1')(x)\n",
    "        x=tsop.conv2d(x,128,fsize=3,name='step5_1')\n",
    "        \n",
    "        x=keras.layers.Conv2DTranspose(64,kernel_size=4,strides=2,padding='same',name='step6_0_deconv2')(x)\n",
    "        x=tsop.conv2d(x,32,fsize=3,name='step6_1')\n",
    "        x=tsop.conv2d(x,3,fsize=3,name='step6_2',activation=tf.nn.sigmoid)\n",
    "    return x\n"
   ]
  },
  {
   "cell_type": "code",
   "execution_count": 13,
   "metadata": {},
   "outputs": [
    {
     "name": "stdout",
     "output_type": "stream",
     "text": [
      "Read Image Bank: (960, 256, 256, 3)\n",
      "#########Training the 0 epoch, the total_batch size is 30###########\n",
      "Epoch: 0, batch: 0###, G_MSE_loss is 0.29773632\n"
     ]
    },
    {
     "name": "stderr",
     "output_type": "stream",
     "text": [
      "Clipping input data to the valid range for imshow with RGB data ([0..1] for floats or [0..255] for integers).\n"
     ]
    },
    {
     "ename": "NameError",
     "evalue": "name 'imgs' is not defined",
     "output_type": "error",
     "traceback": [
      "\u001b[0;31m---------------------------------------------------------------------------\u001b[0m",
      "\u001b[0;31mNameError\u001b[0m                                 Traceback (most recent call last)",
      "\u001b[0;32m<ipython-input-13-6ec4f503ecae>\u001b[0m in \u001b[0;36m<module>\u001b[0;34m()\u001b[0m\n\u001b[1;32m     46\u001b[0m                 \u001b[0mimg_\u001b[0m\u001b[0;34m=\u001b[0m\u001b[0mimg_out_t\u001b[0m\u001b[0;34m[\u001b[0m\u001b[0;36m0\u001b[0m\u001b[0;34m]\u001b[0m\u001b[0;34m\u001b[0m\u001b[0m\n\u001b[1;32m     47\u001b[0m                 \u001b[0mimsave\u001b[0m\u001b[0;34m(\u001b[0m\u001b[0;34m'out/generated_%s.png'\u001b[0m \u001b[0;34m%\u001b[0m\u001b[0;34m(\u001b[0m\u001b[0me\u001b[0m\u001b[0;34m)\u001b[0m\u001b[0;34m,\u001b[0m\u001b[0mimg_\u001b[0m\u001b[0;34m)\u001b[0m\u001b[0;34m\u001b[0m\u001b[0m\n\u001b[0;32m---> 48\u001b[0;31m                 \u001b[0mimsave\u001b[0m\u001b[0;34m(\u001b[0m\u001b[0;34m'out/original_%s.png'\u001b[0m \u001b[0;34m%\u001b[0m\u001b[0;34m(\u001b[0m\u001b[0me\u001b[0m\u001b[0;34m)\u001b[0m\u001b[0;34m,\u001b[0m\u001b[0mimgs\u001b[0m\u001b[0;34m[\u001b[0m\u001b[0;36m0\u001b[0m\u001b[0;34m]\u001b[0m\u001b[0;34m)\u001b[0m\u001b[0;34m\u001b[0m\u001b[0m\n\u001b[0m\u001b[1;32m     49\u001b[0m                 \u001b[0msaver\u001b[0m\u001b[0;34m.\u001b[0m\u001b[0msave\u001b[0m\u001b[0;34m(\u001b[0m\u001b[0msess\u001b[0m\u001b[0;34m,\u001b[0m \u001b[0;34m\"checkpoints/model.ckpt\"\u001b[0m\u001b[0;34m)\u001b[0m\u001b[0;34m\u001b[0m\u001b[0m\n",
      "\u001b[0;31mNameError\u001b[0m: name 'imgs' is not defined"
     ]
    }
   ],
   "source": [
    "#parameters\n",
    "N_each_epoch=960\n",
    "total_epoches=1000\n",
    "batch_size=32\n",
    "data=data_generator(\"training_data/\")\n",
    "\n",
    "tf.reset_default_graph()\n",
    "real_images=tf.placeholder(name=\"real_images\",dtype=tf.float32,shape=[batch_size,256,256,3])\n",
    "G_input=tf.placeholder(name=\"G_input\",dtype=tf.float32,shape=[batch_size,256,256,4])\n",
    "\n",
    "G_output=generator(G_input)\n",
    "MSE_loss=tf.reduce_mean(tf.pow(G_output-real_images,2))\n",
    "G_MSE_optimizer=tf.train.AdamOptimizer(learning_rate=1e-4).minimize(MSE_loss)\n",
    "\n",
    "\n",
    "\n",
    "\n",
    "np_real_images,np_generator_input=data.getEpochData(N_each_epoch)\n",
    "t_vars=tf.trainable_variables()\n",
    "g_vars=[var for var in t_vars if 'generator' in var.name]\n",
    "\n",
    "#training\n",
    "saver = tf.train.Saver()\n",
    "if not os.path.exists('checkpoints/'):\n",
    "    os.makedirs('checkpoints/')\n",
    "\n",
    "\n",
    "with tf.Session() as sess:\n",
    "    sess.run(tf.global_variables_initializer())\n",
    "    saver.restore(sess, \"checkpoints/model.ckpt\")\n",
    "    \n",
    "    if not os.path.exists('out/'):\n",
    "        os.makedirs('out/')\n",
    "    for epoch in range(total_epoches):\n",
    "        total_batch=int(N_each_epoch/batch_size)\n",
    "        print(\"#########Training the %s epoch, the total_batch size is %s###########\"%(epoch,total_batch))\n",
    "        mse_total=0\n",
    "        for e in range(total_batch):\n",
    "            print(\"Epoch: %d, batch: %d###\" % (epoch,e),end=\", \")\n",
    "            batch_real_images=np_real_images[e*batch_size:(e+1)*batch_size]\n",
    "            batch_generate_input=np_generator_input[e*batch_size:(e+1)*batch_size]\n",
    "            _,G_MSE_loss=sess.run([G_MSE_optimizer,MSE_loss],feed_dict={real_images:batch_real_images,\n",
    "                                                                G_input:batch_generate_input})\n",
    "            print(\"G_MSE_loss is %s\"%G_MSE_loss)\n",
    "            mse_total+=G_MSE_loss\n",
    "            if e % 1 ==0:\n",
    "                img_out_t=sess.run(G_output,feed_dict={real_images:batch_real_images,\n",
    "                                                                G_input:batch_generate_input})\n",
    "                img_=img_out_t[0]\n",
    "                imsave('out/generated_%s.png' %(e),img_)\n",
    "                imsave('out/original_%s.png' %(e),batch_real_images[0])\n",
    "                saver.save(sess, \"checkpoints/model.ckpt\")\n",
    "        print(\"******* MSE:\",mse_total)"
   ]
  },
  {
   "cell_type": "code",
   "execution_count": null,
   "metadata": {},
   "outputs": [],
   "source": []
  }
 ],
 "metadata": {
  "kernelspec": {
   "display_name": "Python 3",
   "language": "python",
   "name": "python3"
  },
  "language_info": {
   "codemirror_mode": {
    "name": "ipython",
    "version": 3
   },
   "file_extension": ".py",
   "mimetype": "text/x-python",
   "name": "python",
   "nbconvert_exporter": "python",
   "pygments_lexer": "ipython3",
   "version": "3.7.3"
  }
 },
 "nbformat": 4,
 "nbformat_minor": 2
}
